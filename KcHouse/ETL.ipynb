{
 "cells": [
  {
   "cell_type": "code",
   "execution_count": 1,
   "metadata": {
    "collapsed": true
   },
   "outputs": [],
   "source": [
    "import pandas as pd\n",
    "import streamlit as st\n",
    "import numpy as np\n",
    "import plotly.express as px\n",
    "import folium\n",
    "from streamlit_folium import folium_static\n",
    "from folium.plugins import MarkerCluster"
   ]
  },
  {
   "cell_type": "code",
   "execution_count": 16,
   "outputs": [],
   "source": [
    "def readData(df):\n",
    "    data = pd.read_csv(df)\n",
    "    data['date'] = pd.to_datetime(data['date'])\n",
    "    data['bathrooms'] = np.int64(round(data['bathrooms']-0.3))\n",
    "    data['floors'] = np.int64(round(data['floors']-0.3))\n",
    "    data['waterfront'] = data['waterfront'].apply(lambda x: 'SIM' if x == 1 else 'NÃO')\n",
    "    data['age'] = np.int64(np.int64(pd.to_datetime(data['date']).dt.strftime('%Y')) - data['yr_built'])\n",
    "    data.drop(columns=['sqft_lot', 'sqft_above', 'sqft_basement', 'yr_renovated', 'sqft_living15', 'sqft_lot15'], axis=1, inplace=True)\n",
    "\n",
    "    return data\n",
    "dataframe = readData('https://raw.githubusercontent.com/HedvaldoCosta/DataScience/main/KcHouse/Datasets/kc_house_data.csv')"
   ],
   "metadata": {
    "collapsed": false,
    "pycharm": {
     "name": "#%%\n"
    }
   }
  },
  {
   "cell_type": "code",
   "execution_count": 17,
   "outputs": [
    {
     "data": {
      "text/plain": "               id       date     price  bedrooms  bathrooms  sqft_living  \\\n0      7129300520 2014-10-13  221900.0         3          1         1180   \n1      6414100192 2014-12-09  538000.0         3          2         2570   \n2      5631500400 2015-02-25  180000.0         2          1          770   \n3      2487200875 2014-12-09  604000.0         4          3         1960   \n4      1954400510 2015-02-18  510000.0         3          2         1680   \n...           ...        ...       ...       ...        ...          ...   \n21608   263000018 2014-05-21  360000.0         3          2         1530   \n21609  6600060120 2015-02-23  400000.0         4          2         2310   \n21610  1523300141 2014-06-23  402101.0         2          0         1020   \n21611   291310100 2015-01-16  400000.0         3          2         1600   \n21612  1523300157 2014-10-15  325000.0         2          0         1020   \n\n       floors waterfront  view  condition  grade  yr_built  zipcode      lat  \\\n0           1        NÃO     0          3      7      1955    98178  47.5112   \n1           2        NÃO     0          3      7      1951    98125  47.7210   \n2           1        NÃO     0          3      6      1933    98028  47.7379   \n3           1        NÃO     0          5      7      1965    98136  47.5208   \n4           1        NÃO     0          3      8      1987    98074  47.6168   \n...       ...        ...   ...        ...    ...       ...      ...      ...   \n21608       3        NÃO     0          3      8      2009    98103  47.6993   \n21609       2        NÃO     0          3      8      2014    98146  47.5107   \n21610       2        NÃO     0          3      7      2009    98144  47.5944   \n21611       2        NÃO     0          3      8      2004    98027  47.5345   \n21612       2        NÃO     0          3      7      2008    98144  47.5941   \n\n          long  age  \n0     -122.257   59  \n1     -122.319   63  \n2     -122.233   82  \n3     -122.393   49  \n4     -122.045   28  \n...        ...  ...  \n21608 -122.346    5  \n21609 -122.362    1  \n21610 -122.299    5  \n21611 -122.069   11  \n21612 -122.299    6  \n\n[21613 rows x 16 columns]",
      "text/html": "<div>\n<style scoped>\n    .dataframe tbody tr th:only-of-type {\n        vertical-align: middle;\n    }\n\n    .dataframe tbody tr th {\n        vertical-align: top;\n    }\n\n    .dataframe thead th {\n        text-align: right;\n    }\n</style>\n<table border=\"1\" class=\"dataframe\">\n  <thead>\n    <tr style=\"text-align: right;\">\n      <th></th>\n      <th>id</th>\n      <th>date</th>\n      <th>price</th>\n      <th>bedrooms</th>\n      <th>bathrooms</th>\n      <th>sqft_living</th>\n      <th>floors</th>\n      <th>waterfront</th>\n      <th>view</th>\n      <th>condition</th>\n      <th>grade</th>\n      <th>yr_built</th>\n      <th>zipcode</th>\n      <th>lat</th>\n      <th>long</th>\n      <th>age</th>\n    </tr>\n  </thead>\n  <tbody>\n    <tr>\n      <th>0</th>\n      <td>7129300520</td>\n      <td>2014-10-13</td>\n      <td>221900.0</td>\n      <td>3</td>\n      <td>1</td>\n      <td>1180</td>\n      <td>1</td>\n      <td>NÃO</td>\n      <td>0</td>\n      <td>3</td>\n      <td>7</td>\n      <td>1955</td>\n      <td>98178</td>\n      <td>47.5112</td>\n      <td>-122.257</td>\n      <td>59</td>\n    </tr>\n    <tr>\n      <th>1</th>\n      <td>6414100192</td>\n      <td>2014-12-09</td>\n      <td>538000.0</td>\n      <td>3</td>\n      <td>2</td>\n      <td>2570</td>\n      <td>2</td>\n      <td>NÃO</td>\n      <td>0</td>\n      <td>3</td>\n      <td>7</td>\n      <td>1951</td>\n      <td>98125</td>\n      <td>47.7210</td>\n      <td>-122.319</td>\n      <td>63</td>\n    </tr>\n    <tr>\n      <th>2</th>\n      <td>5631500400</td>\n      <td>2015-02-25</td>\n      <td>180000.0</td>\n      <td>2</td>\n      <td>1</td>\n      <td>770</td>\n      <td>1</td>\n      <td>NÃO</td>\n      <td>0</td>\n      <td>3</td>\n      <td>6</td>\n      <td>1933</td>\n      <td>98028</td>\n      <td>47.7379</td>\n      <td>-122.233</td>\n      <td>82</td>\n    </tr>\n    <tr>\n      <th>3</th>\n      <td>2487200875</td>\n      <td>2014-12-09</td>\n      <td>604000.0</td>\n      <td>4</td>\n      <td>3</td>\n      <td>1960</td>\n      <td>1</td>\n      <td>NÃO</td>\n      <td>0</td>\n      <td>5</td>\n      <td>7</td>\n      <td>1965</td>\n      <td>98136</td>\n      <td>47.5208</td>\n      <td>-122.393</td>\n      <td>49</td>\n    </tr>\n    <tr>\n      <th>4</th>\n      <td>1954400510</td>\n      <td>2015-02-18</td>\n      <td>510000.0</td>\n      <td>3</td>\n      <td>2</td>\n      <td>1680</td>\n      <td>1</td>\n      <td>NÃO</td>\n      <td>0</td>\n      <td>3</td>\n      <td>8</td>\n      <td>1987</td>\n      <td>98074</td>\n      <td>47.6168</td>\n      <td>-122.045</td>\n      <td>28</td>\n    </tr>\n    <tr>\n      <th>...</th>\n      <td>...</td>\n      <td>...</td>\n      <td>...</td>\n      <td>...</td>\n      <td>...</td>\n      <td>...</td>\n      <td>...</td>\n      <td>...</td>\n      <td>...</td>\n      <td>...</td>\n      <td>...</td>\n      <td>...</td>\n      <td>...</td>\n      <td>...</td>\n      <td>...</td>\n      <td>...</td>\n    </tr>\n    <tr>\n      <th>21608</th>\n      <td>263000018</td>\n      <td>2014-05-21</td>\n      <td>360000.0</td>\n      <td>3</td>\n      <td>2</td>\n      <td>1530</td>\n      <td>3</td>\n      <td>NÃO</td>\n      <td>0</td>\n      <td>3</td>\n      <td>8</td>\n      <td>2009</td>\n      <td>98103</td>\n      <td>47.6993</td>\n      <td>-122.346</td>\n      <td>5</td>\n    </tr>\n    <tr>\n      <th>21609</th>\n      <td>6600060120</td>\n      <td>2015-02-23</td>\n      <td>400000.0</td>\n      <td>4</td>\n      <td>2</td>\n      <td>2310</td>\n      <td>2</td>\n      <td>NÃO</td>\n      <td>0</td>\n      <td>3</td>\n      <td>8</td>\n      <td>2014</td>\n      <td>98146</td>\n      <td>47.5107</td>\n      <td>-122.362</td>\n      <td>1</td>\n    </tr>\n    <tr>\n      <th>21610</th>\n      <td>1523300141</td>\n      <td>2014-06-23</td>\n      <td>402101.0</td>\n      <td>2</td>\n      <td>0</td>\n      <td>1020</td>\n      <td>2</td>\n      <td>NÃO</td>\n      <td>0</td>\n      <td>3</td>\n      <td>7</td>\n      <td>2009</td>\n      <td>98144</td>\n      <td>47.5944</td>\n      <td>-122.299</td>\n      <td>5</td>\n    </tr>\n    <tr>\n      <th>21611</th>\n      <td>291310100</td>\n      <td>2015-01-16</td>\n      <td>400000.0</td>\n      <td>3</td>\n      <td>2</td>\n      <td>1600</td>\n      <td>2</td>\n      <td>NÃO</td>\n      <td>0</td>\n      <td>3</td>\n      <td>8</td>\n      <td>2004</td>\n      <td>98027</td>\n      <td>47.5345</td>\n      <td>-122.069</td>\n      <td>11</td>\n    </tr>\n    <tr>\n      <th>21612</th>\n      <td>1523300157</td>\n      <td>2014-10-15</td>\n      <td>325000.0</td>\n      <td>2</td>\n      <td>0</td>\n      <td>1020</td>\n      <td>2</td>\n      <td>NÃO</td>\n      <td>0</td>\n      <td>3</td>\n      <td>7</td>\n      <td>2008</td>\n      <td>98144</td>\n      <td>47.5941</td>\n      <td>-122.299</td>\n      <td>6</td>\n    </tr>\n  </tbody>\n</table>\n<p>21613 rows × 16 columns</p>\n</div>"
     },
     "execution_count": 17,
     "metadata": {},
     "output_type": "execute_result"
    }
   ],
   "source": [
    "dataframe"
   ],
   "metadata": {
    "collapsed": false,
    "pycharm": {
     "name": "#%%\n"
    }
   }
  },
  {
   "cell_type": "code",
   "execution_count": 28,
   "outputs": [],
   "source": [
    "mapa = folium.Map(location=[dataframe['lat'].mean(), dataframe['long'].mean()])\n",
    "marker_cluster = MarkerCluster().add_to(mapa)\n",
    "data_map = dataframe[['id', 'price', 'bedrooms', 'bathrooms', 'floors']].copy()"
   ],
   "metadata": {
    "collapsed": false,
    "pycharm": {
     "name": "#%%\n"
    }
   }
  },
  {
   "cell_type": "markdown",
   "source": [],
   "metadata": {
    "collapsed": false
   }
  },
  {
   "cell_type": "code",
   "execution_count": 29,
   "outputs": [
    {
     "data": {
      "text/plain": "               id     price  bedrooms  bathrooms  floors\n0      7129300520  221900.0         3          1       1\n1      6414100192  538000.0         3          2       2\n2      5631500400  180000.0         2          1       1\n3      2487200875  604000.0         4          3       1\n4      1954400510  510000.0         3          2       1\n...           ...       ...       ...        ...     ...\n21608   263000018  360000.0         3          2       3\n21609  6600060120  400000.0         4          2       2\n21610  1523300141  402101.0         2          0       2\n21611   291310100  400000.0         3          2       2\n21612  1523300157  325000.0         2          0       2\n\n[21613 rows x 5 columns]",
      "text/html": "<div>\n<style scoped>\n    .dataframe tbody tr th:only-of-type {\n        vertical-align: middle;\n    }\n\n    .dataframe tbody tr th {\n        vertical-align: top;\n    }\n\n    .dataframe thead th {\n        text-align: right;\n    }\n</style>\n<table border=\"1\" class=\"dataframe\">\n  <thead>\n    <tr style=\"text-align: right;\">\n      <th></th>\n      <th>id</th>\n      <th>price</th>\n      <th>bedrooms</th>\n      <th>bathrooms</th>\n      <th>floors</th>\n    </tr>\n  </thead>\n  <tbody>\n    <tr>\n      <th>0</th>\n      <td>7129300520</td>\n      <td>221900.0</td>\n      <td>3</td>\n      <td>1</td>\n      <td>1</td>\n    </tr>\n    <tr>\n      <th>1</th>\n      <td>6414100192</td>\n      <td>538000.0</td>\n      <td>3</td>\n      <td>2</td>\n      <td>2</td>\n    </tr>\n    <tr>\n      <th>2</th>\n      <td>5631500400</td>\n      <td>180000.0</td>\n      <td>2</td>\n      <td>1</td>\n      <td>1</td>\n    </tr>\n    <tr>\n      <th>3</th>\n      <td>2487200875</td>\n      <td>604000.0</td>\n      <td>4</td>\n      <td>3</td>\n      <td>1</td>\n    </tr>\n    <tr>\n      <th>4</th>\n      <td>1954400510</td>\n      <td>510000.0</td>\n      <td>3</td>\n      <td>2</td>\n      <td>1</td>\n    </tr>\n    <tr>\n      <th>...</th>\n      <td>...</td>\n      <td>...</td>\n      <td>...</td>\n      <td>...</td>\n      <td>...</td>\n    </tr>\n    <tr>\n      <th>21608</th>\n      <td>263000018</td>\n      <td>360000.0</td>\n      <td>3</td>\n      <td>2</td>\n      <td>3</td>\n    </tr>\n    <tr>\n      <th>21609</th>\n      <td>6600060120</td>\n      <td>400000.0</td>\n      <td>4</td>\n      <td>2</td>\n      <td>2</td>\n    </tr>\n    <tr>\n      <th>21610</th>\n      <td>1523300141</td>\n      <td>402101.0</td>\n      <td>2</td>\n      <td>0</td>\n      <td>2</td>\n    </tr>\n    <tr>\n      <th>21611</th>\n      <td>291310100</td>\n      <td>400000.0</td>\n      <td>3</td>\n      <td>2</td>\n      <td>2</td>\n    </tr>\n    <tr>\n      <th>21612</th>\n      <td>1523300157</td>\n      <td>325000.0</td>\n      <td>2</td>\n      <td>0</td>\n      <td>2</td>\n    </tr>\n  </tbody>\n</table>\n<p>21613 rows × 5 columns</p>\n</div>"
     },
     "execution_count": 29,
     "metadata": {},
     "output_type": "execute_result"
    }
   ],
   "source": [],
   "metadata": {
    "collapsed": false,
    "pycharm": {
     "name": "#%%\n"
    }
   }
  },
  {
   "cell_type": "code",
   "execution_count": null,
   "outputs": [],
   "source": [],
   "metadata": {
    "collapsed": false,
    "pycharm": {
     "name": "#%%\n"
    }
   }
  }
 ],
 "metadata": {
  "kernelspec": {
   "display_name": "Python 3",
   "language": "python",
   "name": "python3"
  },
  "language_info": {
   "codemirror_mode": {
    "name": "ipython",
    "version": 2
   },
   "file_extension": ".py",
   "mimetype": "text/x-python",
   "name": "python",
   "nbconvert_exporter": "python",
   "pygments_lexer": "ipython2",
   "version": "2.7.6"
  }
 },
 "nbformat": 4,
 "nbformat_minor": 0
}